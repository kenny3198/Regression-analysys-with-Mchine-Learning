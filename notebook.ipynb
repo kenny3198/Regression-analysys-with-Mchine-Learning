{
 "cells": [
  {
   "cell_type": "markdown",
   "metadata": {},
   "source": [
    "NEW JUPYTER NOTE BOOK"
   ]
  },
  {
   "cell_type": "code",
   "execution_count": null,
   "metadata": {},
   "outputs": [],
   "source": [
    "from sklearn.tree import DecisionTreeClassifier\n",
    "from sklearn.model_selection import train_test_split\n",
    "from sklearn.metrics import accuracy_score\n",
    "import pandas as pd\n",
    "music = pd.read_csv(\"music.csv\")\n",
    "X = music.drop(columns=['genre'])\n",
    "Y = music['genre']\n",
    "X_train, X_test, Y_train, Y_test = train_test_split(X, Y, test_size=0.2)\n",
    "model = DecisionTreeClassifier()\n",
    "model.fit(X_train, Y_train)\n",
    "predictions = model.predict(X_test)\n",
    "score = accuracy_score(Y_test, predictions)\n",
    "score\n"
   ]
  },
  {
   "cell_type": "code",
   "execution_count": null,
   "metadata": {},
   "outputs": [],
   "source": [
    "from sklearn.tree import DecisionTreeClassifier\n",
    "from sklearn import tree\n",
    "import pandas as pd\n",
    "music = pd.read_csv(\"music.csv\")\n",
    "X = music.drop(columns=['genre'])\n",
    "Y = music['genre']\n",
    "model = DecisionTreeClassifier()\n",
    "model.fit(X, Y)\n",
    "prediction = model.predict([ [21, 1], [22, 0]])\n",
    "prediction\n",
    "tree.export_graphviz(model, out_file='music-recomemded.dot',\n",
    " feature_names=['age', 'gener'], class_names=sorted(Y.unique()), label='all', rounded=True, filled=True)\n"
   ]
  }
 ],
 "metadata": {
  "kernelspec": {
   "display_name": "Python 3",
   "language": "python",
   "name": "python3"
  },
  "language_info": {
   "codemirror_mode": {
    "name": "ipython",
    "version": 3
   },
   "file_extension": ".py",
   "mimetype": "text/x-python",
   "name": "python",
   "nbconvert_exporter": "python",
   "pygments_lexer": "ipython3",
   "version": "3.12.4"
  }
 },
 "nbformat": 4,
 "nbformat_minor": 2
}
